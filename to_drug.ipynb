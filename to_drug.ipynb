{
 "cells": [
  {
   "cell_type": "markdown",
   "metadata": {},
   "source": [
    "# Get Side Effects"
   ]
  },
  {
   "cell_type": "code",
   "execution_count": 66,
   "metadata": {},
   "outputs": [],
   "source": [
    "import pickle\n",
    "\n",
    "with open('vector_data/side_effects_processed.pkl', 'rb') as f:\n",
    "    dense = pickle.load(f)\n",
    "\n",
    "with open('data/side_effects.txt', 'r') as f:\n",
    "    side_effects = f.readlines()\n",
    "side_effects = [x.strip() for x in side_effects]"
   ]
  },
  {
   "cell_type": "code",
   "execution_count": 67,
   "metadata": {},
   "outputs": [
    {
     "name": "stdout",
     "output_type": "stream",
     "text": [
      "['Acute abdomen', 'Syndrome abdominal acute', 'Abdominal syndrome acute', 'Abdominal cramps', 'Abdominal cramp', 'Cramp abdominal', 'Abdominal crampy pains', 'Griping abdominal', 'Griping abdomen', 'Distended abdomen']\n"
     ]
    }
   ],
   "source": [
    "print(side_effects[:10])"
   ]
  },
  {
   "cell_type": "markdown",
   "metadata": {},
   "source": [
    "# Get Drugs"
   ]
  },
  {
   "cell_type": "code",
   "execution_count": 68,
   "metadata": {},
   "outputs": [
    {
     "data": {
      "text/html": [
       "<div>\n",
       "<style scoped>\n",
       "    .dataframe tbody tr th:only-of-type {\n",
       "        vertical-align: middle;\n",
       "    }\n",
       "\n",
       "    .dataframe tbody tr th {\n",
       "        vertical-align: top;\n",
       "    }\n",
       "\n",
       "    .dataframe thead th {\n",
       "        text-align: right;\n",
       "    }\n",
       "</style>\n",
       "<table border=\"1\" class=\"dataframe\">\n",
       "  <thead>\n",
       "    <tr style=\"text-align: right;\">\n",
       "      <th></th>\n",
       "      <th>UMLS_concept_id</th>\n",
       "      <th>MedDRA_concept_type</th>\n",
       "      <th>MedRA_id</th>\n",
       "      <th>Side_effect_name</th>\n",
       "    </tr>\n",
       "  </thead>\n",
       "  <tbody>\n",
       "    <tr>\n",
       "      <th>0</th>\n",
       "      <td>C0000727</td>\n",
       "      <td>LT</td>\n",
       "      <td>10000647</td>\n",
       "      <td>Acute abdomen</td>\n",
       "    </tr>\n",
       "    <tr>\n",
       "      <th>1</th>\n",
       "      <td>C0000727</td>\n",
       "      <td>PT</td>\n",
       "      <td>10000647</td>\n",
       "      <td>Acute abdomen</td>\n",
       "    </tr>\n",
       "    <tr>\n",
       "      <th>2</th>\n",
       "      <td>C0000727</td>\n",
       "      <td>LT</td>\n",
       "      <td>10042784</td>\n",
       "      <td>Syndrome abdominal acute</td>\n",
       "    </tr>\n",
       "    <tr>\n",
       "      <th>3</th>\n",
       "      <td>C0000727</td>\n",
       "      <td>LT</td>\n",
       "      <td>10000096</td>\n",
       "      <td>Abdominal syndrome acute</td>\n",
       "    </tr>\n",
       "    <tr>\n",
       "      <th>4</th>\n",
       "      <td>C0000729</td>\n",
       "      <td>LT</td>\n",
       "      <td>10000057</td>\n",
       "      <td>Abdominal cramps</td>\n",
       "    </tr>\n",
       "  </tbody>\n",
       "</table>\n",
       "</div>"
      ],
      "text/plain": [
       "  UMLS_concept_id MedDRA_concept_type  MedRA_id          Side_effect_name\n",
       "0        C0000727                  LT  10000647             Acute abdomen\n",
       "1        C0000727                  PT  10000647             Acute abdomen\n",
       "2        C0000727                  LT  10042784  Syndrome abdominal acute\n",
       "3        C0000727                  LT  10000096  Abdominal syndrome acute\n",
       "4        C0000729                  LT  10000057          Abdominal cramps"
      ]
     },
     "execution_count": 68,
     "metadata": {},
     "output_type": "execute_result"
    }
   ],
   "source": [
    "# read data from data/meddra.tsv\n",
    "import pandas as pd\n",
    "\n",
    "side_effects_path = 'data/meddra.tsv'\n",
    "columns = ['UMLS_concept_id', 'MedDRA_concept_type', 'MedRA_id', 'Side_effect_name']\n",
    "\n",
    "df = pd.read_csv(side_effects_path, sep='\\t', header=None)\n",
    "df.columns = columns\n",
    "df.head()"
   ]
  },
  {
   "cell_type": "code",
   "execution_count": 69,
   "metadata": {},
   "outputs": [
    {
     "name": "stdout",
     "output_type": "stream",
     "text": [
      "49561\n"
     ]
    }
   ],
   "source": [
    "# show unique UMLS_concept_id\n",
    "print(df['UMLS_concept_id'].nunique())"
   ]
  },
  {
   "cell_type": "markdown",
   "metadata": {},
   "source": [
    "# Find Similarity of Unknown Side Effects"
   ]
  },
  {
   "cell_type": "code",
   "execution_count": 80,
   "metadata": {},
   "outputs": [
    {
     "name": "stdout",
     "output_type": "stream",
     "text": [
      "[ 0.0144888  -0.00026168 -0.02003238 ...  0.0483966  -0.06477924\n",
      " -0.01412994]\n"
     ]
    }
   ],
   "source": [
    "from utils.embeddings import genEmbs\n",
    "\n",
    "unknown = 'Abbonimal pain'\n",
    "unknown_vector, _ = genEmbs(unknown)\n",
    "print(unknown_vector)"
   ]
  },
  {
   "cell_type": "code",
   "execution_count": 81,
   "metadata": {},
   "outputs": [
    {
     "data": {
      "text/plain": [
       "PostNet(\n",
       "  (fc1): Linear(in_features=1024, out_features=1024, bias=True)\n",
       "  (bn): BatchNorm1d(1024, eps=1e-05, momentum=0.1, affine=True, track_running_stats=True)\n",
       "  (fc2): Linear(in_features=1024, out_features=1024, bias=True)\n",
       "  (output): Linear(in_features=1024, out_features=1024, bias=True)\n",
       "  (relu): ReLU()\n",
       ")"
      ]
     },
     "execution_count": 81,
     "metadata": {},
     "output_type": "execute_result"
    }
   ],
   "source": [
    "# Model\n",
    "import torch.nn as nn\n",
    "import torch\n",
    "\n",
    "class PostNet(nn.Module):\n",
    "    def __init__(self):\n",
    "        super(PostNet, self).__init__()\n",
    "        self.fc1 = nn.Linear(1024, 1024)\n",
    "        self.bn = nn.BatchNorm1d(1024)\n",
    "        self.fc2 = nn.Linear(1024, 1024)\n",
    "        self.output = nn.Linear(1024, 1024)\n",
    "        self.relu = nn.ReLU()\n",
    "    \n",
    "    def forward(self, x):\n",
    "        x = self.fc1(x)\n",
    "        x = self.bn(x)\n",
    "        x = self.relu(x)\n",
    "        x = self.fc2(x)\n",
    "        x = self.relu(x)\n",
    "        x = self.output(x)\n",
    "        return x\n",
    "    \n",
    "device = torch.device('cuda' if torch.cuda.is_available() else 'cpu')\n",
    "model = PostNet()\n",
    "model.to(device)\n",
    "# load weights\n",
    "model.load_state_dict(torch.load('model/model_300.pth'))\n",
    "model.eval()"
   ]
  },
  {
   "cell_type": "code",
   "execution_count": 82,
   "metadata": {},
   "outputs": [
    {
     "name": "stdout",
     "output_type": "stream",
     "text": [
      "[-1.7908159e-04 -5.9611872e-02  2.5857890e-02 ... -8.8794867e-04\n",
      " -1.8171874e-01 -1.6177643e-02]\n"
     ]
    }
   ],
   "source": [
    "import numpy as np\n",
    "\n",
    "dummy_batch = np.stack([unknown_vector, unknown_vector], axis=0)\n",
    "dummy_batch = torch.tensor(dummy_batch, dtype=torch.float32).to(device)\n",
    "with torch.no_grad():\n",
    "    unknown_vector_postnet = model(dummy_batch)[0].detach().cpu().numpy()\n",
    "print(unknown_vector_postnet)"
   ]
  },
  {
   "cell_type": "code",
   "execution_count": 86,
   "metadata": {},
   "outputs": [
    {
     "name": "stderr",
     "output_type": "stream",
     "text": [
      "100%|██████████| 75604/75604 [00:25<00:00, 3014.77it/s]\n"
     ]
    }
   ],
   "source": [
    "from sklearn.metrics.pairwise import cosine_similarity\n",
    "from tqdm import tqdm\n",
    "\n",
    "similarities = []\n",
    "for vector in tqdm(dense):\n",
    "    sim = cosine_similarity(unknown_vector_postnet.reshape(1,-1), vector.reshape(1,-1))\n",
    "    similarities.append(sim[0,0])"
   ]
  },
  {
   "cell_type": "code",
   "execution_count": null,
   "metadata": {},
   "outputs": [
    {
     "name": "stdout",
     "output_type": "stream",
     "text": [
      "[   23    24  8122 21895 25212 27751 27752 33930 33931 36356 38893 39172\n",
      " 39173 40180 43949 68040]\n",
      "['Abdominal pain NOS', 'Abd. pain', 'Pain assessment', 'Injury to abdominal aorta', 'Ache stomach', 'Anal pain', 'Pain anal', 'Abdominal pain generalised', 'Abdominal pain generalized', 'Central abdominal pain', 'Administration site pain', 'Abdominal pain localised', 'Abdominal pain localized', 'Abdominal pain aggravated', 'Gastrointestinal and abdominal pains (excl oral and throat)', 'Functional abdominal pain']\n"
     ]
    }
   ],
   "source": [
    "# find at .97 similarity\n",
    "threshold = 0.97\n",
    "similarities = np.array(similarities)\n",
    "similar_indices = np.where(similarities > threshold)[0]\n",
    "print(similar_indices)\n",
    "\n",
    "# show similar side effects\n",
    "similar_side_effects = [side_effects[i] for i in similar_indices]\n",
    "print(similar_side_effects)"
   ]
  },
  {
   "cell_type": "code",
   "execution_count": 95,
   "metadata": {},
   "outputs": [
    {
     "name": "stderr",
     "output_type": "stream",
     "text": [
      "95912it [00:04, 23146.79it/s]\n"
     ]
    }
   ],
   "source": [
    "# map back to UMLS_concept_id\n",
    "\n",
    "possible_drugs = []\n",
    "for row in tqdm(df.iterrows()):\n",
    "    if row[1]['Side_effect_name'] in similar_side_effects and row[1]['UMLS_concept_id'] not in possible_drugs:\n",
    "        possible_drugs.append(row[1]['UMLS_concept_id'])"
   ]
  },
  {
   "cell_type": "code",
   "execution_count": 96,
   "metadata": {},
   "outputs": [
    {
     "name": "stdout",
     "output_type": "stream",
     "text": [
      "['C0000737', 'C0030198', 'C0160704', 'C0221512', 'C0238637', 'C0344304', 'C0423644', 'C0521491', 'C0522061', 'C0549273', 'C0851977', 'C1609533']\n"
     ]
    }
   ],
   "source": [
    "print(possible_drugs)"
   ]
  }
 ],
 "metadata": {
  "kernelspec": {
   "display_name": "ds",
   "language": "python",
   "name": "python3"
  },
  "language_info": {
   "codemirror_mode": {
    "name": "ipython",
    "version": 3
   },
   "file_extension": ".py",
   "mimetype": "text/x-python",
   "name": "python",
   "nbconvert_exporter": "python",
   "pygments_lexer": "ipython3",
   "version": "3.8.18"
  }
 },
 "nbformat": 4,
 "nbformat_minor": 2
}

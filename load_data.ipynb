{
 "cells": [
  {
   "cell_type": "code",
   "execution_count": 1,
   "metadata": {},
   "outputs": [],
   "source": [
    "urls = ['http://sideeffects.embl.de/media/download/meddra_all_indications.tsv.gz',\n",
    "        'http://sideeffects.embl.de/media/download/meddra_all_se.tsv.gz',\n",
    "        'http://sideeffects.embl.de/media/download/meddra_freq.tsv.gz',\n",
    "        'http://sideeffects.embl.de/media/download/meddra_all_label_indications.tsv.gz',\n",
    "        'http://sideeffects.embl.de/media/download/meddra_all_label_se.tsv.gz',\n",
    "        'http://sideeffects.embl.de/media/download/meddra.tsv.gz']"
   ]
  },
  {
   "cell_type": "code",
   "execution_count": 2,
   "metadata": {},
   "outputs": [
    {
     "name": "stdout",
     "output_type": "stream",
     "text": [
      "Downloaded meddra_all_indications.tsv.gz\n",
      "Downloaded meddra_all_se.tsv.gz\n",
      "Downloaded meddra_freq.tsv.gz\n",
      "Downloaded meddra_all_label_indications.tsv.gz\n",
      "Downloaded meddra_all_label_se.tsv.gz\n",
      "Downloaded meddra.tsv.gz\n"
     ]
    }
   ],
   "source": [
    "# download to data folder\n",
    "import os\n",
    "import urllib.request\n",
    "import gzip\n",
    "\n",
    "for url in urls:\n",
    "    filename = url.split('/')[-1]\n",
    "    urllib.request.urlretrieve(url, os.path.join('data', filename))\n",
    "    with gzip.open(os.path.join('data', filename), 'rb') as f_in:\n",
    "        with open(os.path.join('data', filename[:-3]), 'wb') as f_out:\n",
    "            f_out.write(f_in.read())\n",
    "    os.remove(os.path.join('data', filename))\n",
    "    print('Downloaded', filename)"
   ]
  }
 ],
 "metadata": {
  "kernelspec": {
   "display_name": "Python 3",
   "language": "python",
   "name": "python3"
  },
  "language_info": {
   "codemirror_mode": {
    "name": "ipython",
    "version": 3
   },
   "file_extension": ".py",
   "mimetype": "text/x-python",
   "name": "python",
   "nbconvert_exporter": "python",
   "pygments_lexer": "ipython3",
   "version": "3.8.18"
  }
 },
 "nbformat": 4,
 "nbformat_minor": 2
}

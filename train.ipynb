{
 "cells": [
  {
   "cell_type": "markdown",
   "metadata": {},
   "source": [
    "# Sample of Dataset of Similar Side Effects"
   ]
  },
  {
   "cell_type": "code",
   "execution_count": 15,
   "metadata": {},
   "outputs": [],
   "source": [
    "dataset = [\n",
    "    [\"Acute abdomen\", \"Syndrome abdominal acute\", \"Abdominal syndrome acute\"],\n",
    "    [\"Abdominal cramps\", \"Abdominal cramp\", \"Cramp abdominal\", \"Abdominal crampy pains\"],\n",
    "    [\"Distended abdomen\", \"Abdominal distension\", \"Swollen abdomen\", \"Swelling abdomen\", \"Swelling abd\"],\n",
    "    [\"Abdominal mass\", \"Abdominal mass NOS\", \"Mass in abdomen\", \"Abdominal neoplasm NOS\", \"Abdominal neoplasm\", \"Abdominal tumor\", \"Abdominal tumour\"],\n",
    "    [\"Abdominal pain\", \"Pain abdominal\", \"Abdominal pain NOS\", \"Abd. pain\", \"Abdo pain\", \"Pain abdo\", \"Gut pain\"],\n",
    "    [\"Congenital abnormality NOS\", \"Birth defects\", \"Congenital anomaly\", \"Anomaly congenital\", \"Congenital anomaly NOS\", \"Foetal malformation\", \"Fetal malformation\", \"Developmental disturbance\"],\n",
    "    [\"Spontaneous abortion\", \"Abortion spontaneous\", \"Abortion spontaneous NOS\", \"Abortions spontaneous\", \"Miscarriage\", \"Miscarriage of pregnancy\"],\n",
    "    [\"Acidosis\", \"Acidosis NOS\", \"Lactic acidosis\", \"Acidosis lactic\", \"Renal tubular acidosis\", \"Acidosis renal tubular\", \"Renal acidosis tubular\", \"RTA\", \"Respiratory acidosis\", \"Acidosis respiratory\"],\n",
    "    [\"AIDS\", \"Acquired immune deficiency syndrome\", \"Autoimmune deficiency syndrome\", \"Acquired immunodeficiency syndrome, unspecified\", \"Acquired immuno deficiency syndrome\"],\n",
    "    [\"Adjustment disorder with depressed mood\", \"Adjustment disorder with disturbance of conduct\", \"Adjustment reaction with predominant disturbance of conduct\", \"Adjustment disorder with mixed disturbance of emotion and conduct\"],\n",
    "    [\"Angioedema\", \"Angioedemas\", \"Edema angioneurotic\", \"Angioneurotic edema\", \"Angioneurotic oedema\", \"Oedema angioneurotic\", \"Quincke's edema\", \"Quincke's oedema\", \"Giant urticaria\"],\n",
    "    [\"Anorexia\", \"Anorectic\", \"Anorexic\", \"Anorexia nervosa\"],\n",
    "    [\"Anxiety\", \"Anxiety reaction\", \"Reaction anxiety\", \"Feeling anxious\", \"Anxiety disorder\", \"Separation anxiety disorder\"],\n",
    "    [\"Anemia\", \"Anaemia\", \"Anemia NOS\", \"Unspecified anemia\", \"Anemia aplastic\", \"Aplastic anemia\", \"Aplastic anaemia\", \"Thalassemia major\", \"Hemolytic anemia\", \"Autoimmune hemolytic anemia\"],\n",
    "    [\"Arthritis\", \"Arthritis NOS\", \"Gouty arthritis\", \"Arthritis gouty\", \"Gouty arthropathy\", \"Infectious arthritis\"],\n",
    "    [\"Asthma\", \"Asthma NOS\", \"Asthma bronchial\", \"Asthma, unspecified\", \"Asthmatic\"],\n",
    "    [\"Atopic dermatitis\", \"Dermatitis atopic\", \"Atopic eczema\", \"Eczema atopic\", \"Allergic eczema\"],\n",
    "    [\"Bacterial infection\", \"Bacterial infection NOS\", \"Infection bacterial\"],\n",
    "    [\"Back pain\", \"Backache\", \"Pain back\", \"Pain dorsal\", \"Backache, unspecified\"],\n",
    "    [\"Blepharitis\", \"Blepharitis, unspecified\", \"Unspecified inflammation of eyelid\"],\n",
    "    [\"Bronchospasm\", \"Bronchial spasm\", \"Spasm bronchial\", \"Bronchospasm NOS\"],\n",
    "    [\"Candidiasis\", \"Candidiasis NOS\", \"Candida NOS\", \"Thrush\"],\n",
    "    [\"Cardiac arrhythmia\", \"Cardiac dysrhythmia\", \"Arrhythmia cardiac\", \"Arrhythmia sinus\", \"Sinus arrhythmia\"],\n",
    "    [\"Cataract\", \"Cataract congenital\", \"Unspecified cataract\"],\n",
    "    [\"Cerebral palsy\", \"Palsy cerebral\"],\n",
    "    [\"Cirrhosis\", \"Cirrhosis of liver without mention of alcohol\"],\n",
    "    [\"Cognitive disorder\", \"Cognitive disorders\", \"Cognitive impairment\"],\n",
    "    [\"Cold intolerance\", \"Sensitivity to cold\"],\n",
    "    [\"Congestive heart failure\", \"Heart failure\", \"CHF\"],\n",
    "    [\"Constipation\", \"Difficult stooling\", \"Irregular bowel movement\"],\n",
    "    [\"Deafness\", \"Hearing loss\", \"Hearing impairment\"],\n",
    "    [\"Depression\", \"Depression NOS\", \"Mental depression\", \"Depressive disorder\", \"Depressive reaction\"],\n",
    "    [\"Diabetes mellitus\", \"Diabetes\", \"Type 1 diabetes mellitus\", \"Type 2 diabetes mellitus\", \"NIDDM\", \"IDDM\"],\n",
    "    [\"Dizziness\", \"Vertigo\", \"Lightheadedness\"],\n",
    "    [\"Dry skin\", \"Skin dryness\", \"Xerosis\"],\n",
    "    [\"Edema\", \"Swelling\", \"Fluid retention\"],\n",
    "    [\"Emphysema\", \"Chronic obstructive pulmonary disease\"],\n",
    "    [\"Epilepsy\", \"Seizure disorder\", \"Convulsive disorder\"],\n",
    "    [\"Fatigue\", \"Tiredness\", \"Exhaustion\", \"Lethargy\"],\n",
    "    [\"Fever\", \"Elevated temperature\", \"Pyrexia\"],\n",
    "    [\"Glaucoma\", \"Ocular hypertension\"],\n",
    "    [\"Headache\", \"Cephalalgia\", \"Migraine\"],\n",
    "    [\"Hepatitis\", \"Liver inflammation\"],\n",
    "    [\"Hyperlipidemia\", \"High cholesterol\"],\n",
    "    [\"Hypertension\", \"High blood pressure\"],\n",
    "    [\"Hypoglycemia\", \"Low blood sugar\"],\n",
    "    [\"Hypotension\", \"Low blood pressure\"],\n",
    "    [\"Insomnia\", \"Difficulty sleeping\", \"Sleep disturbance\"],\n",
    "    [\"Nausea\", \"Vomiting\", \"Sickness\"],\n",
    "    [\"Obesity\", \"Overweight\"],\n",
    "    [\"Osteoporosis\", \"Bone density loss\"],\n",
    "    [\"Pneumonia\", \"Lung infection\"],\n",
    "    [\"Rash\", \"Skin eruption\", \"Dermatitis\"],\n",
    "    [\"Sepsis\", \"Blood infection\"],\n",
    "    [\"Stroke\", \"Cerebrovascular accident\", \"CVA\"],\n",
    "    [\"Tachycardia\", \"Fast heart rate\"],\n",
    "    [\"Ulcer\", \"Sore\", \"Lesion\"],\n",
    "    [\"Urinary incontinence\", \"Loss of bladder control\"],\n",
    "    [\"Vomiting\", \"Emesis\"],\n",
    "    [\"Weakness\", \"Loss of strength\", \"Debility\"]\n",
    "]\n"
   ]
  },
  {
   "cell_type": "code",
   "execution_count": 16,
   "metadata": {},
   "outputs": [],
   "source": [
    "from utils.embeddings import genEmbs\n",
    "\n",
    "all_effects = [effect for effects in dataset for effect in effects]\n",
    "dense, sparse = genEmbs(all_effects)"
   ]
  },
  {
   "cell_type": "code",
   "execution_count": 17,
   "metadata": {},
   "outputs": [],
   "source": [
    "def indexer(nrows: int) -> int:\n",
    "    global dataset\n",
    "    return sum([len(row) for row in dataset[:nrows]])"
   ]
  },
  {
   "cell_type": "markdown",
   "metadata": {},
   "source": [
    "# Visualize Data"
   ]
  },
  {
   "cell_type": "markdown",
   "metadata": {},
   "source": [
    "#"
   ]
  },
  {
   "cell_type": "code",
   "execution_count": 18,
   "metadata": {},
   "outputs": [
    {
     "data": {
      "image/png": "[encoded data removed]",
      "text/plain": [
       "<Figure size 640x480 with 2 Axes>"
      ]
     },
     "metadata": {},
     "output_type": "display_data"
    }
   ],
   "source": [
    "from utils.similarity import *\n",
    "import numpy as np\n",
    "\n",
    "nrows = 2\n",
    "idx = indexer(nrows)\n",
    "matrix = cosine_similarity_matrix(dense[:idx])\n",
    "plot_similarity_matrix(matrix, cmap='gray')"
   ]
  },
  {
   "cell_type": "markdown",
   "metadata": {},
   "source": [
    "# Clear GPU Memory"
   ]
  },
  {
   "cell_type": "code",
   "execution_count": 19,
   "metadata": {},
   "outputs": [],
   "source": [
    "# clear GPU memory\n",
    "import torch\n",
    "torch.cuda.empty_cache()"
   ]
  },
  {
   "cell_type": "markdown",
   "metadata": {},
   "source": [
    "# Custom Dataset"
   ]
  },
  {
   "cell_type": "code",
   "execution_count": 20,
   "metadata": {},
   "outputs": [],
   "source": [
    "import torch\n",
    "from torch.utils.data import Dataset\n",
    "import numpy as np\n",
    "\n",
    "class TripletDataset(Dataset):\n",
    "    def __init__(self, dataset, dense):\n",
    "        self.dataset = dataset\n",
    "        self.dense = dense\n",
    "        self.nTags = len(dataset)\n",
    "        self.create_triplet()\n",
    "        \n",
    "    def create_triplet(self):\n",
    "        self.anchors = []\n",
    "        self.positives = []\n",
    "        self.negatives = []\n",
    "        for i in range(self.nTags):\n",
    "            for j in range(len(self.dataset[i])):\n",
    "                for k in range(j+1, len(self.dataset[i])):\n",
    "                    anchor = (i, j)\n",
    "                    positive = (i, k)\n",
    "                    for l in range(self.nTags):\n",
    "                        if l == i:\n",
    "                            continue\n",
    "                        self.anchors += [anchor] * len(self.dataset[l])\n",
    "                        self.positives += [positive] * len(self.dataset[l])\n",
    "                        self.negatives += [(l, m) for m in range(len(self.dataset[l]))]\n",
    "    \n",
    "    def _get_dense_index(self, i, j):\n",
    "        return indexer(i) + j\n",
    "\n",
    "    def __len__(self):\n",
    "        return len(self.anchors)\n",
    "    \n",
    "    def __getitem__(self, idx):\n",
    "        anchor = self.anchors[idx]\n",
    "        positive = self.positives[idx]\n",
    "        negative = self.negatives[idx]\n",
    "        return self.dense[self._get_dense_index(*anchor)], self.dense[self._get_dense_index(*positive)], self.dense[self._get_dense_index(*negative)]\n",
    "    "
   ]
  },
  {
   "cell_type": "code",
   "execution_count": 21,
   "metadata": {},
   "outputs": [
    {
     "name": "stdout",
     "output_type": "stream",
     "text": [
      "97282\n"
     ]
    }
   ],
   "source": [
    "tripletDataset = TripletDataset(dataset, dense)\n",
    "print(len(tripletDataset))"
   ]
  },
  {
   "cell_type": "code",
   "execution_count": 46,
   "metadata": {},
   "outputs": [],
   "source": [
    "# train test split\n",
    "from torch.utils.data import DataLoader\n",
    "from sklearn.model_selection import train_test_split\n",
    "\n",
    "batch_size = 256\n",
    "\n",
    "tmp, test = train_test_split(tripletDataset, test_size=0.2)\n",
    "train, val = train_test_split(tmp, test_size=0.1)\n",
    "\n",
    "trainLoader = DataLoader(train, batch_size=batch_size, shuffle=True)\n",
    "valLoader = DataLoader(val, batch_size=batch_size, shuffle=False)\n",
    "testLoader = DataLoader(test, batch_size=batch_size, shuffle=False)"
   ]
  },
  {
   "cell_type": "code",
   "execution_count": 47,
   "metadata": {},
   "outputs": [
    {
     "name": "stdout",
     "output_type": "stream",
     "text": [
      "274 31 77\n"
     ]
    }
   ],
   "source": [
    "print(len(trainLoader), len(valLoader), len(testLoader))"
   ]
  },
  {
   "cell_type": "markdown",
   "metadata": {},
   "source": [
    "# Post Net"
   ]
  },
  {
   "cell_type": "code",
   "execution_count": 48,
   "metadata": {},
   "outputs": [],
   "source": [
    "# Model\n",
    "import torch.nn as nn\n",
    "import torch.nn.functional as F\n",
    "\n",
    "class PostNet(nn.Module):\n",
    "    def __init__(self):\n",
    "        super(PostNet, self).__init__()\n",
    "        self.fc1 = nn.Linear(1024, 1024)\n",
    "        self.fc2 = nn.Linear(1024, 1024)\n",
    "        self.leaky_relu = nn.LeakyReLU()\n",
    "\n",
    "    def forward(self, x):\n",
    "        x = self.fc1(x)\n",
    "        x = self.leaky_relu(x)\n",
    "        x = self.fc2(x)\n",
    "        return x"
   ]
  },
  {
   "cell_type": "markdown",
   "metadata": {},
   "source": [
    "# Configurations"
   ]
  },
  {
   "cell_type": "code",
   "execution_count": 49,
   "metadata": {},
   "outputs": [
    {
     "data": {
      "text/plain": [
       "PostNet(\n",
       "  (fc1): Linear(in_features=1024, out_features=1024, bias=True)\n",
       "  (fc2): Linear(in_features=1024, out_features=1024, bias=True)\n",
       "  (leaky_relu): LeakyReLU(negative_slope=0.01)\n",
       ")"
      ]
     },
     "execution_count": 49,
     "metadata": {},
     "output_type": "execute_result"
    }
   ],
   "source": [
    "MODEL = PostNet()\n",
    "DEVICE = torch.device('cuda' if torch.cuda.is_available() else 'cpu')\n",
    "LEARNING_RATE = 0.001\n",
    "OPTIMIZER = torch.optim.Adam(MODEL.parameters(), lr=LEARNING_RATE)\n",
    "CRITERION = nn.TripletMarginLoss(margin=1.0, p=2)\n",
    "EPOCH = 100\n",
    "EVALUATION_INTERVAL = 10\n",
    "SAVE_INTERVAL = 10\n",
    "\n",
    "MODEL.to(DEVICE)\n"
   ]
  },
  {
   "cell_type": "code",
   "execution_count": 50,
   "metadata": {},
   "outputs": [
    {
     "name": "stdout",
     "output_type": "stream",
     "text": [
      "Using device: cuda\n"
     ]
    }
   ],
   "source": [
    "print(f'Using device: {DEVICE}')"
   ]
  },
  {
   "cell_type": "code",
   "execution_count": 51,
   "metadata": {},
   "outputs": [
    {
     "name": "stdout",
     "output_type": "stream",
     "text": [
      "----------------------------------------------------------------\n",
      "        Layer (type)               Output Shape         Param #\n",
      "================================================================\n",
      "            Linear-1                 [-1, 1024]       1,049,600\n",
      "         LeakyReLU-2                 [-1, 1024]               0\n",
      "            Linear-3                 [-1, 1024]       1,049,600\n",
      "================================================================\n",
      "Total params: 2,099,200\n",
      "Trainable params: 2,099,200\n",
      "Non-trainable params: 0\n",
      "----------------------------------------------------------------\n",
      "Input size (MB): 0.00\n",
      "Forward/backward pass size (MB): 0.02\n",
      "Params size (MB): 8.01\n",
      "Estimated Total Size (MB): 8.04\n",
      "----------------------------------------------------------------\n"
     ]
    }
   ],
   "source": [
    "# show model\n",
    "from torchsummary import summary\n",
    "summary(MODEL, (1024,))"
   ]
  },
  {
   "cell_type": "code",
   "execution_count": 52,
   "metadata": {},
   "outputs": [
    {
     "name": "stdout",
     "output_type": "stream",
     "text": [
      "torch.Size([256, 1024])\n",
      "torch.Size([256, 1024])\n",
      "torch.Size([256, 1024])\n",
      "tensor([[-0.0320,  0.0520, -0.0080,  ...,  0.0060, -0.0559, -0.0206],\n",
      "        [-0.0496,  0.0514, -0.0397,  ...,  0.0031, -0.0378, -0.0075],\n",
      "        [ 0.0673,  0.0133, -0.0612,  ...,  0.0116, -0.0889,  0.0611],\n",
      "        ...,\n",
      "        [-0.0220,  0.0215, -0.0124,  ...,  0.0146, -0.0267, -0.0792],\n",
      "        [-0.0172, -0.0096, -0.0223,  ...,  0.0449, -0.0200,  0.0270],\n",
      "        [-0.0531,  0.0222, -0.0391,  ...,  0.0298, -0.0132, -0.0089]],\n",
      "       device='cuda:0')\n",
      "tensor(0.9429, device='cuda:0', grad_fn=<MeanBackward0>)\n"
     ]
    }
   ],
   "source": [
    "for dat in trainLoader:\n",
    "    anchor, positive, negative = dat\n",
    "    anchor = anchor.to(DEVICE)\n",
    "    positive = positive.to(DEVICE)\n",
    "    negative = negative.to(DEVICE)\n",
    "    print(anchor.size())\n",
    "    print(positive.size())\n",
    "    print(negative.size())\n",
    "    print(anchor)\n",
    "    # forward\n",
    "    out1 = MODEL(anchor)\n",
    "    out2 = MODEL(positive)\n",
    "    out3 = MODEL(negative)\n",
    "    # calc loss\n",
    "    loss = CRITERION(out1, out2, out3)\n",
    "    print(loss)\n",
    "    break"
   ]
  },
  {
   "cell_type": "markdown",
   "metadata": {},
   "source": [
    "# Training Loop"
   ]
  },
  {
   "cell_type": "code",
   "execution_count": null,
   "metadata": {},
   "outputs": [
    {
     "data": {
      "image/png": "[encoded data removed]",
      "text/plain": [
       "<Figure size 640x480 with 2 Axes>"
      ]
     },
     "metadata": {},
     "output_type": "display_data"
    },
    {
     "name": "stderr",
     "output_type": "stream",
     "text": [
      "88it [00:08,  9.52it/s]"
     ]
    }
   ],
   "source": [
    "# Training\n",
    "from tqdm import tqdm\n",
    "import matplotlib.pyplot as plt\n",
    "from IPython.display import clear_output\n",
    "\n",
    "\n",
    "train_losses = []\n",
    "val_losses = []\n",
    "\n",
    "for epoch in range(EPOCH):\n",
    "\n",
    "    MODEL.train()\n",
    "    epoch_loss = []\n",
    "    for i, (anchor, positive, negative) in tqdm(enumerate(trainLoader)):\n",
    "        anchor, positive, negative = anchor.to(DEVICE), positive.to(DEVICE), negative.to(DEVICE)\n",
    "        OPTIMIZER.zero_grad()\n",
    "        anchor = MODEL(anchor)\n",
    "        positive = MODEL(positive)\n",
    "        negative = MODEL(negative)\n",
    "        loss = CRITERION(anchor, positive, negative)\n",
    "        loss.backward()\n",
    "        OPTIMIZER.step()\n",
    "        # print(f'Epoch: {epoch}, Batch: {i}, Loss: {loss.item()}')\n",
    "        batch_loss = loss.item()\n",
    "        epoch_loss.append(batch_loss)\n",
    "    train_losses.append(np.mean(epoch_loss))\n",
    "\n",
    "    if epoch % EVALUATION_INTERVAL == 0:\n",
    "        MODEL.eval()\n",
    "        epoch_loss = []\n",
    "        with torch.no_grad():\n",
    "            for i, (anchor, positive, negative) in tqdm(enumerate(valLoader)):\n",
    "                anchor, positive, negative = anchor.to(DEVICE), positive.to(DEVICE), negative.to(DEVICE)\n",
    "                anchor = MODEL(anchor)\n",
    "                positive = MODEL(positive)\n",
    "                negative = MODEL(negative)\n",
    "                loss = CRITERION(anchor, positive, negative)\n",
    "                # print(f'Epoch: {epoch}, Batch: {i}, Loss: {loss.item()}')\n",
    "                batch_loss = loss.item()\n",
    "                epoch_loss.append(batch_loss)\n",
    "        val_losses.append(np.mean(epoch_loss))\n",
    "\n",
    "    if epoch % SAVE_INTERVAL == 0:\n",
    "        torch.save(MODEL.state_dict(), f'./model/model_{epoch}.pth')\n",
    "\n",
    "    # clear display\n",
    "    clear_output(wait=True)\n",
    "\n",
    "    # plot\n",
    "    plt.subplot(1, 2, 1)\n",
    "    plt.plot(train_losses)\n",
    "    plt.title(f'Train Loss Epoch: {epoch}')\n",
    "    plt.xlabel('Epoch')\n",
    "    plt.ylabel('Loss')\n",
    "    plt.subplot(1, 2, 2)\n",
    "    plt.plot(val_losses)\n",
    "    plt.title(f'Val Loss Epoch: {epoch}')\n",
    "    plt.xlabel('10 Epoch')\n",
    "    plt.ylabel('Loss')\n",
    "    plt.show()"
   ]
  }
 ],
 "metadata": {
  "kernelspec": {
   "display_name": "ds",
   "language": "python",
   "name": "python3"
  },
  "language_info": {
   "codemirror_mode": {
    "name": "ipython",
    "version": 3
   },
   "file_extension": ".py",
   "mimetype": "text/x-python",
   "name": "python",
   "nbconvert_exporter": "python",
   "pygments_lexer": "ipython3",
   "version": "3.8.18"
  }
 },
 "nbformat": 4,
 "nbformat_minor": 2
}
